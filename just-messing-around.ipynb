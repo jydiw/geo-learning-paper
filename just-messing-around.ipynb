{
 "cells": [
  {
   "cell_type": "code",
   "execution_count": 66,
   "metadata": {},
   "outputs": [],
   "source": [
    "import pandas as pd\n",
    "import numpy as np\n",
    "import re\n",
    "\n",
    "import functools\n",
    "from nltk.util import skipgrams\n",
    "from nltk import word_tokenize\n",
    "from sklearn.feature_extraction.text import CountVectorizer\n",
    "\n",
    "from tensorflow.keras.models import Sequential\n",
    "from tensorflow.keras import layers\n",
    "from tensorflow.keras import regularizers\n",
    "import tensorflow as tf\n",
    "\n",
    "import matplotlib.pyplot as plt"
   ]
  },
  {
   "cell_type": "code",
   "execution_count": 2,
   "metadata": {},
   "outputs": [],
   "source": [
    "train = pd.read_csv('lipo/train.csv', header=None)\n",
    "val = pd.read_csv('lipo/val.csv', header=None)"
   ]
  },
  {
   "cell_type": "code",
   "execution_count": 68,
   "metadata": {},
   "outputs": [
    {
     "name": "stdout",
     "output_type": "stream",
     "text": [
      "(3360, 3)\n"
     ]
    },
    {
     "data": {
      "text/html": [
       "<div>\n",
       "<style scoped>\n",
       "    .dataframe tbody tr th:only-of-type {\n",
       "        vertical-align: middle;\n",
       "    }\n",
       "\n",
       "    .dataframe tbody tr th {\n",
       "        vertical-align: top;\n",
       "    }\n",
       "\n",
       "    .dataframe thead th {\n",
       "        text-align: right;\n",
       "    }\n",
       "</style>\n",
       "<table border=\"1\" class=\"dataframe\">\n",
       "  <thead>\n",
       "    <tr style=\"text-align: right;\">\n",
       "      <th></th>\n",
       "      <th>0</th>\n",
       "      <th>1</th>\n",
       "      <th>2</th>\n",
       "    </tr>\n",
       "  </thead>\n",
       "  <tbody>\n",
       "    <tr>\n",
       "      <th>0</th>\n",
       "      <td>CHEMBL645</td>\n",
       "      <td>0.10</td>\n",
       "      <td>CC(C)NCC(O)COc1ccc(COCCOC(C)C)cc1</td>\n",
       "    </tr>\n",
       "    <tr>\n",
       "      <th>1</th>\n",
       "      <td>CHEMBL443320</td>\n",
       "      <td>-1.34</td>\n",
       "      <td>Cc1ccc(NC(=N)N)cc1C</td>\n",
       "    </tr>\n",
       "    <tr>\n",
       "      <th>2</th>\n",
       "      <td>CHEMBL322122</td>\n",
       "      <td>-0.15</td>\n",
       "      <td>CC(C)C(=O)NCCNCC(O)COc1ccc(O)cc1</td>\n",
       "    </tr>\n",
       "    <tr>\n",
       "      <th>3</th>\n",
       "      <td>CHEMBL74582</td>\n",
       "      <td>3.07</td>\n",
       "      <td>C[C@@](O)(C(=O)Nc1ccc(cc1Cl)S(=O)(=O)NCC=C)C(F...</td>\n",
       "    </tr>\n",
       "    <tr>\n",
       "      <th>4</th>\n",
       "      <td>CHEMBL546</td>\n",
       "      <td>0.20</td>\n",
       "      <td>CC(C)NCC(O)COc1ccccc1OCC=C</td>\n",
       "    </tr>\n",
       "  </tbody>\n",
       "</table>\n",
       "</div>"
      ],
      "text/plain": [
       "              0     1                                                  2\n",
       "0     CHEMBL645  0.10                  CC(C)NCC(O)COc1ccc(COCCOC(C)C)cc1\n",
       "1  CHEMBL443320 -1.34                                Cc1ccc(NC(=N)N)cc1C\n",
       "2  CHEMBL322122 -0.15                   CC(C)C(=O)NCCNCC(O)COc1ccc(O)cc1\n",
       "3   CHEMBL74582  3.07  C[C@@](O)(C(=O)Nc1ccc(cc1Cl)S(=O)(=O)NCC=C)C(F...\n",
       "4     CHEMBL546  0.20                         CC(C)NCC(O)COc1ccccc1OCC=C"
      ]
     },
     "execution_count": 68,
     "metadata": {},
     "output_type": "execute_result"
    }
   ],
   "source": [
    "print(train.shape)\n",
    "train.head()"
   ]
  },
  {
   "cell_type": "code",
   "execution_count": 4,
   "metadata": {},
   "outputs": [],
   "source": [
    "test_text = [list(smiles) for smiles in train[2]]\n",
    "val_text = [list(smiles) for smiles in val[2]]"
   ]
  },
  {
   "cell_type": "code",
   "execution_count": 5,
   "metadata": {},
   "outputs": [
    {
     "data": {
      "text/plain": [
       "CountVectorizer(analyzer=functools.partial(<function skipgrams at 0x000002C45D3D11F8>, n=3, k=2))"
      ]
     },
     "execution_count": 5,
     "metadata": {},
     "output_type": "execute_result"
    }
   ],
   "source": [
    "skip = functools.partial(skipgrams, n=3, k=2)\n",
    "vectorizer = CountVectorizer(analyzer=skip)\n",
    "vectorizer.fit(test_text)"
   ]
  },
  {
   "cell_type": "code",
   "execution_count": 6,
   "metadata": {},
   "outputs": [],
   "source": [
    "X_train = vectorizer.transform(test_text)\n",
    "y_train = train[1]\n",
    "X_val = vectorizer.transform(val_text)\n",
    "y_val = val[1]"
   ]
  },
  {
   "cell_type": "code",
   "execution_count": 57,
   "metadata": {},
   "outputs": [],
   "source": [
    "def R_squared(y, y_pred):\n",
    "    residual = tf.reduce_sum(tf.square(tf.subtract(y, y_pred)))\n",
    "    total = tf.reduce_sum(tf.square(tf.subtract(y, tf.reduce_mean(y))))\n",
    "    r2 = tf.subtract(1.0, tf.divide(residual, total))\n",
    "    return r2"
   ]
  },
  {
   "cell_type": "code",
   "execution_count": 76,
   "metadata": {},
   "outputs": [
    {
     "name": "stdout",
     "output_type": "stream",
     "text": [
      "Model: \"sequential_7\"\n",
      "_________________________________________________________________\n",
      "Layer (type)                 Output Shape              Param #   \n",
      "=================================================================\n",
      "dense_48 (Dense)             (None, 1024)              5694464   \n",
      "_________________________________________________________________\n",
      "dense_49 (Dense)             (None, 512)               524800    \n",
      "_________________________________________________________________\n",
      "dense_50 (Dense)             (None, 512)               262656    \n",
      "_________________________________________________________________\n",
      "dense_51 (Dense)             (None, 256)               131328    \n",
      "_________________________________________________________________\n",
      "dense_52 (Dense)             (None, 256)               65792     \n",
      "_________________________________________________________________\n",
      "dense_53 (Dense)             (None, 128)               32896     \n",
      "_________________________________________________________________\n",
      "dense_54 (Dense)             (None, 128)               16512     \n",
      "_________________________________________________________________\n",
      "dense_55 (Dense)             (None, 128)               16512     \n",
      "_________________________________________________________________\n",
      "dense_56 (Dense)             (None, 128)               16512     \n",
      "_________________________________________________________________\n",
      "dense_57 (Dense)             (None, 1)                 129       \n",
      "=================================================================\n",
      "Total params: 6,761,601\n",
      "Trainable params: 6,761,601\n",
      "Non-trainable params: 0\n",
      "_________________________________________________________________\n"
     ]
    }
   ],
   "source": [
    "model = Sequential()\n",
    "model.add(layers.Dense(1024, kernel_regularizer=regularizers.l2(l=0.001), input_dim=input_dim, activation='relu'))\n",
    "model.add(layers.Dense(512, kernel_regularizer=regularizers.l2(l=0.001), activation='relu'))\n",
    "model.add(layers.Dense(512, kernel_regularizer=regularizers.l2(l=0.001), activation='relu'))\n",
    "model.add(layers.Dense(256, kernel_regularizer=regularizers.l2(l=0.001), activation='relu'))\n",
    "model.add(layers.Dense(256, kernel_regularizer=regularizers.l2(l=0.001), activation='relu'))\n",
    "model.add(layers.Dense(128, kernel_regularizer=regularizers.l2(l=0.001), activation='relu'))\n",
    "model.add(layers.Dense(128, kernel_regularizer=regularizers.l2(l=0.001), activation='relu'))\n",
    "model.add(layers.Dense(128, kernel_regularizer=regularizers.l2(l=0.001), activation='relu'))\n",
    "model.add(layers.Dense(128, kernel_regularizer=regularizers.l2(l=0.001), activation='relu'))\n",
    "model.add(layers.Dense(1, activation=None))\n",
    "model.compile(loss='mean_squared_error', \n",
    "              optimizer='adam', \n",
    "              metrics=['mean_squared_error'])\n",
    "model.summary()"
   ]
  },
  {
   "cell_type": "code",
   "execution_count": 77,
   "metadata": {},
   "outputs": [
    {
     "name": "stdout",
     "output_type": "stream",
     "text": [
      "WARNING:tensorflow:Falling back from v2 loop because of error: Failed to find data adapter that can handle input: <class 'scipy.sparse.csr.csr_matrix'>, <class 'NoneType'>\n",
      "Train on 3360 samples, validate on 420 samples\n",
      "Epoch 1/25\n",
      "3360/3360 [==============================] - 2s 514us/sample - loss: 5.4622 - mean_squared_error: 2.4510 - val_loss: 3.3837 - val_mean_squared_error: 1.0880\n",
      "Epoch 2/25\n",
      "3360/3360 [==============================] - 1s 341us/sample - loss: 2.8135 - mean_squared_error: 0.7985 - val_loss: 2.6149 - val_mean_squared_error: 0.8524\n",
      "Epoch 3/25\n",
      "3360/3360 [==============================] - 1s 346us/sample - loss: 2.1343 - mean_squared_error: 0.5202 - val_loss: 2.2812 - val_mean_squared_error: 0.8075\n",
      "Epoch 4/25\n",
      "3360/3360 [==============================] - 1s 350us/sample - loss: 1.7317 - mean_squared_error: 0.3484 - val_loss: 2.0256 - val_mean_squared_error: 0.7328\n",
      "Epoch 5/25\n",
      "3360/3360 [==============================] - 1s 350us/sample - loss: 1.4899 - mean_squared_error: 0.2612 - val_loss: 1.9134 - val_mean_squared_error: 0.7502\n",
      "Epoch 6/25\n",
      "3360/3360 [==============================] - 1s 343us/sample - loss: 1.3331 - mean_squared_error: 0.2174 - val_loss: 1.7731 - val_mean_squared_error: 0.7072\n",
      "Epoch 7/25\n",
      "3360/3360 [==============================] - 1s 348us/sample - loss: 1.2218 - mean_squared_error: 0.1937 - val_loss: 1.6892 - val_mean_squared_error: 0.7018\n",
      "Epoch 8/25\n",
      "3360/3360 [==============================] - 1s 360us/sample - loss: 1.1268 - mean_squared_error: 0.1716 - val_loss: 1.6327 - val_mean_squared_error: 0.7120\n",
      "Epoch 9/25\n",
      "3360/3360 [==============================] - 1s 348us/sample - loss: 1.0624 - mean_squared_error: 0.1674 - val_loss: 1.5910 - val_mean_squared_error: 0.7234\n",
      "Epoch 10/25\n",
      "3360/3360 [==============================] - 1s 344us/sample - loss: 0.9776 - mean_squared_error: 0.1322 - val_loss: 1.5357 - val_mean_squared_error: 0.7152\n",
      "Epoch 11/25\n",
      "3360/3360 [==============================] - 1s 356us/sample - loss: 0.9357 - mean_squared_error: 0.1356 - val_loss: 1.5096 - val_mean_squared_error: 0.7311\n",
      "Epoch 12/25\n",
      "3360/3360 [==============================] - 1s 357us/sample - loss: 0.8833 - mean_squared_error: 0.1218 - val_loss: 1.4261 - val_mean_squared_error: 0.6846\n",
      "Epoch 13/25\n",
      "3360/3360 [==============================] - 1s 355us/sample - loss: 0.8276 - mean_squared_error: 0.1036 - val_loss: 1.4175 - val_mean_squared_error: 0.7129\n",
      "Epoch 14/25\n",
      "3360/3360 [==============================] - 1s 347us/sample - loss: 0.8019 - mean_squared_error: 0.1117 - val_loss: 1.3886 - val_mean_squared_error: 0.7139\n",
      "Epoch 15/25\n",
      "3360/3360 [==============================] - 1s 350us/sample - loss: 0.7566 - mean_squared_error: 0.0955 - val_loss: 1.3317 - val_mean_squared_error: 0.6851\n",
      "Epoch 16/25\n",
      "3360/3360 [==============================] - 1s 347us/sample - loss: 0.7394 - mean_squared_error: 0.1040 - val_loss: 1.3878 - val_mean_squared_error: 0.7650\n",
      "Epoch 17/25\n",
      "3360/3360 [==============================] - 1s 346us/sample - loss: 0.7260 - mean_squared_error: 0.1133 - val_loss: 1.3407 - val_mean_squared_error: 0.7386\n",
      "Epoch 18/25\n",
      "3360/3360 [==============================] - 1s 356us/sample - loss: 0.6924 - mean_squared_error: 0.1013 - val_loss: 1.2881 - val_mean_squared_error: 0.7089\n",
      "Epoch 19/25\n",
      "3360/3360 [==============================] - 1s 346us/sample - loss: 0.6511 - mean_squared_error: 0.0815 - val_loss: 1.2778 - val_mean_squared_error: 0.7200\n",
      "Epoch 20/25\n",
      "3360/3360 [==============================] - 1s 348us/sample - loss: 0.6246 - mean_squared_error: 0.0767 - val_loss: 1.2516 - val_mean_squared_error: 0.7143\n",
      "Epoch 21/25\n",
      "3360/3360 [==============================] - 1s 355us/sample - loss: 0.6041 - mean_squared_error: 0.0754 - val_loss: 1.2315 - val_mean_squared_error: 0.7117\n",
      "Epoch 22/25\n",
      "3360/3360 [==============================] - 1s 355us/sample - loss: 0.5849 - mean_squared_error: 0.0733 - val_loss: 1.2095 - val_mean_squared_error: 0.7072\n",
      "Epoch 23/25\n",
      "3360/3360 [==============================] - 1s 359us/sample - loss: 0.5761 - mean_squared_error: 0.0796 - val_loss: 1.2026 - val_mean_squared_error: 0.7133\n",
      "Epoch 24/25\n",
      "3360/3360 [==============================] - 1s 343us/sample - loss: 0.5608 - mean_squared_error: 0.0785 - val_loss: 1.2308 - val_mean_squared_error: 0.7560\n",
      "Epoch 25/25\n",
      "3360/3360 [==============================] - 1s 346us/sample - loss: 0.5613 - mean_squared_error: 0.0920 - val_loss: 1.1632 - val_mean_squared_error: 0.7000\n"
     ]
    }
   ],
   "source": [
    "history = model.fit(X_train, y_train, epochs=25, validation_data=(X_val, y_val), batch_size=128)"
   ]
  },
  {
   "cell_type": "code",
   "execution_count": 78,
   "metadata": {},
   "outputs": [
    {
     "name": "stdout",
     "output_type": "stream",
     "text": [
      "WARNING:tensorflow:Falling back from v2 loop because of error: Failed to find data adapter that can handle input: <class 'scipy.sparse.csr.csr_matrix'>, <class 'NoneType'>\n"
     ]
    },
    {
     "data": {
      "text/plain": [
       "<tf.Tensor: id=116424, shape=(), dtype=float64, numpy=0.5277097176724062>"
      ]
     },
     "execution_count": 78,
     "metadata": {},
     "output_type": "execute_result"
    }
   ],
   "source": [
    "predictions = model.predict(X_val)\n",
    "R_squared(y_val, predictions.flatten())"
   ]
  },
  {
   "cell_type": "code",
   "execution_count": 79,
   "metadata": {},
   "outputs": [
    {
     "data": {
      "text/plain": [
       "<matplotlib.collections.PathCollection at 0x2c49c274188>"
      ]
     },
     "execution_count": 79,
     "metadata": {},
     "output_type": "execute_result"
    },
    {
     "data": {
      "image/png": "[encoded data removed]",
      "text/plain": [
       "<Figure size 432x288 with 1 Axes>"
      ]
     },
     "metadata": {
      "needs_background": "light"
     },
     "output_type": "display_data"
    }
   ],
   "source": [
    "plt.scatter(y_val, predictions)"
   ]
  },
  {
   "cell_type": "code",
   "execution_count": null,
   "metadata": {},
   "outputs": [],
   "source": []
  }
 ],
 "metadata": {
  "kernelspec": {
   "display_name": "Python 3.7.6 64-bit ('tf': conda)",
   "language": "python",
   "name": "python37664bittfcondaa1dd19fcc90143fd9fe18d24874ae204"
  },
  "language_info": {
   "codemirror_mode": {
    "name": "ipython",
    "version": 3
   },
   "file_extension": ".py",
   "mimetype": "text/x-python",
   "name": "python",
   "nbconvert_exporter": "python",
   "pygments_lexer": "ipython3",
   "version": "3.7.6"
  }
 },
 "nbformat": 4,
 "nbformat_minor": 4
}
